{
 "cells": [
  {
   "cell_type": "markdown",
   "metadata": {},
   "source": [
    "#  Case Study"
   ]
  },
  {
   "cell_type": "markdown",
   "metadata": {},
   "source": [
    "#### **Let's import all required libraries**"
   ]
  },
  {
   "cell_type": "code",
   "execution_count": null,
   "metadata": {},
   "outputs": [],
   "source": [
    "import json\n",
    "import pandas as pd\n",
    "import warnings \n",
    "warnings.filterwarnings(action='ignore')\n",
    "print('Libraries have been imported')"
   ]
  },
  {
   "cell_type": "markdown",
   "metadata": {},
   "source": [
    "# Scenario: 1\n",
    "\n",
    "We have a JSON file: pos_0.png.json. Our job is to write a python script that\n",
    "will read JSON from a folder and convert this format into a standard format:\n",
    "formatted_pos_0.png.json"
   ]
  },
  {
   "cell_type": "markdown",
   "metadata": {},
   "source": [
    "#### **Let's solve the prolem: 1**"
   ]
  },
  {
   "cell_type": "markdown",
   "metadata": {},
   "source": [
    "<font color ='blue'> **File: pos_0.png.json** </font>"
   ]
  },
  {
   "cell_type": "code",
   "execution_count": null,
   "metadata": {},
   "outputs": [],
   "source": [
    "# Reading the json file\n",
    "with open('Data/pos_0.png.json','r') as f:\n",
    "\tpos_0_json = json.load(f)\n",
    "\tpos_0_data=[pos_0_json]\n",
    "\n",
    "# Printing the type of data variable\n",
    "print(\"Type:\", type(pos_0_data),'\\n')\n",
    "\n",
    "# Printing data\n",
    "print(pos_0_data)"
   ]
  },
  {
   "cell_type": "markdown",
   "metadata": {},
   "source": [
    "<font color ='blue'> **File: pos_10010.png.json** </font>"
   ]
  },
  {
   "cell_type": "code",
   "execution_count": null,
   "metadata": {},
   "outputs": [],
   "source": [
    "# Reading the json file\n",
    "with open('Data/pos_10010.png.json','r') as f:\n",
    "\tpos_10010_json = json.load(f)\n",
    "\tpos_10010_data=[pos_10010_json]\n",
    "\n",
    "# Printing the type of data variable\n",
    "print(\"Type:\", type(pos_10010_data), '\\n')\n",
    "\n",
    "# Printing data\n",
    "print(pos_10010_data)"
   ]
  },
  {
   "cell_type": "markdown",
   "metadata": {},
   "source": [
    "<font color ='blue'> **File: pos_10492.png.json** </font>"
   ]
  },
  {
   "cell_type": "code",
   "execution_count": null,
   "metadata": {},
   "outputs": [],
   "source": [
    "# Reading the json file\n",
    "with open('Data/pos_10492.png.json','r') as f:\n",
    "\tpos_10492_json = json.load(f)\n",
    "\tpos_10492_data=[pos_10492_json]\n",
    "\n",
    "# Printing the type of data variable\n",
    "print(\"Type:\", type(pos_10492_data), '\\n')\n",
    "\n",
    "# Printing data\n",
    "print(pos_10492_data)"
   ]
  },
  {
   "cell_type": "markdown",
   "metadata": {},
   "source": [
    "<font color ='blue'> **File: formatted_pos_0.png.json** </font>"
   ]
  },
  {
   "cell_type": "code",
   "execution_count": null,
   "metadata": {},
   "outputs": [],
   "source": [
    "# Reading the json file\n",
    "with open('Data/formatted_pos_0.png.json', 'r') as f:\n",
    "  formatted_data = json.load(f)\n",
    "\n",
    "# Printing the type of data variable\n",
    "print(\"Type:\", type(formatted_data),'\\n')\n",
    "\n",
    "# Printing data\n",
    "print(formatted_data)"
   ]
  },
  {
   "cell_type": "markdown",
   "metadata": {},
   "source": [
    "<font color ='blue'> **File: formatted_pos_10492.png.json** </font>"
   ]
  },
  {
   "cell_type": "code",
   "execution_count": null,
   "metadata": {},
   "outputs": [],
   "source": [
    "# Reading the json file\n",
    "with open('Data/formatted_pos_10492.png.json', 'r') as f:\n",
    "  formatted_pos_10492_data = json.load(f)\n",
    "\n",
    "# Printing the type of data variable\n",
    "print(\"Type:\", type(formatted_pos_10492_data),'\\n')\n",
    "\n",
    "# Printing data\n",
    "print(formatted_pos_10492_data)"
   ]
  },
  {
   "cell_type": "markdown",
   "metadata": {},
   "source": [
    "Pos_0.png.json, Pos_10010.png.json and Pos_10492.png.json have been formated into a standard format: formatted_pos_0.png.json"
   ]
  },
  {
   "cell_type": "markdown",
   "metadata": {},
   "source": [
    "# Scenario: 2\n",
    "\n",
    "Our job is to write a python script that can read json from a folder and combine the test jsons\n",
    "(Pos_0.png.json, Pos_10010.png.json, Pos_10492.png.json) into a single json file and\n",
    "then change the class names into vehicle>car, license plate >number"
   ]
  },
  {
   "cell_type": "markdown",
   "metadata": {},
   "source": [
    "#### **Let's solve the prolem: 2**"
   ]
  },
  {
   "cell_type": "code",
   "execution_count": null,
   "metadata": {},
   "outputs": [],
   "source": [
    "# Opening JSON file\n",
    "with open('Data/pos_0.png.json', 'r') as f:\n",
    "    pos_0_data_json=f.read()\n",
    "    print(pos_0_data_json)"
   ]
  },
  {
   "cell_type": "code",
   "execution_count": null,
   "metadata": {},
   "outputs": [],
   "source": [
    "# Opening JSON file\n",
    "with open('Data/pos_10010.png.json', 'r') as f:\n",
    "    pos_10010_data_json=f.read()\n",
    "    print(pos_10010_data_json)"
   ]
  },
  {
   "cell_type": "code",
   "execution_count": null,
   "metadata": {},
   "outputs": [],
   "source": [
    "# Opening JSON file\n",
    "with open('Data/pos_10492.png.json', 'r') as f:\n",
    "    pos_10492_data_json=f.read()\n",
    "    print(pos_10492_data_json)"
   ]
  },
  {
   "cell_type": "code",
   "execution_count": null,
   "metadata": {},
   "outputs": [],
   "source": [
    "file=[pos_0_data_json,pos_10010_data_json,pos_10492_data_json]\n",
    "# Combined the test jsons (Pos_0.png.json,Pos_10010.png.json, Pos_10492.png.json) into a single json file\n",
    "with open(\"combine.json\", \"w\") as f: \n",
    "    for i in file:\n",
    "        f.write(i)"
   ]
  },
  {
   "cell_type": "code",
   "execution_count": null,
   "metadata": {},
   "outputs": [],
   "source": [
    "# Opening JSON file\n",
    "with open('combine.json', 'r') as f:\n",
    "    combine_json=f.read()\n",
    "    print(combine_json)"
   ]
  },
  {
   "cell_type": "code",
   "execution_count": null,
   "metadata": {},
   "outputs": [],
   "source": [
    "# Changed the class name into vehicle > car \n",
    "with open('combine.json', 'r+') as file:\n",
    "    combine = file.read()\n",
    "    file. seek(0)\n",
    "    combine.replace('vehicle', 'car')\n",
    "    file. write(combine)\n",
    "  \n",
    "# Printing  replaced\n",
    "print(\"replaced vehicle > car\")"
   ]
  },
  {
   "cell_type": "code",
   "execution_count": null,
   "metadata": {},
   "outputs": [],
   "source": [
    "# Opening JSON file\n",
    "with open('combine.json', 'r') as f:\n",
    "    combine_data=f.read()\n",
    "    print(combine_data)"
   ]
  },
  {
   "cell_type": "code",
   "execution_count": null,
   "metadata": {},
   "outputs": [],
   "source": [
    "# Changed the class name into license plate > number \n",
    "with open('combine.json', 'r+') as file:\n",
    "    combine = file.read()\n",
    "    file. seek(0)\n",
    "    combine.replace('license plate', 'number')\n",
    "    file. write(combine)\n",
    "  \n",
    "# Printing replaced\n",
    "print(\"replaced license plate > number \")"
   ]
  },
  {
   "cell_type": "code",
   "execution_count": null,
   "metadata": {},
   "outputs": [],
   "source": [
    "# Opening JSON file\n",
    "with open('combine.json', 'r') as f:\n",
    "    combine_data=f.read()\n",
    "    print(combine_data)"
   ]
  }
 ],
 "metadata": {
  "kernelspec": {
   "display_name": "Python 3.10.1 64-bit",
   "language": "python",
   "name": "python3"
  },
  "language_info": {
   "codemirror_mode": {
    "name": "ipython",
    "version": 3
   },
   "file_extension": ".py",
   "mimetype": "text/x-python",
   "name": "python",
   "nbconvert_exporter": "python",
   "pygments_lexer": "ipython3",
   "version": "3.10.1"
  },
  "orig_nbformat": 4,
  "vscode": {
   "interpreter": {
    "hash": "369f2c481f4da34e4445cda3fffd2e751bd1c4d706f27375911949ba6bb62e1c"
   }
  }
 },
 "nbformat": 4,
 "nbformat_minor": 2
}
